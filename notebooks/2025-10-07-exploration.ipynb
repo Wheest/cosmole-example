{
 "cells": [
  {
   "cell_type": "code",
   "execution_count": null,
   "id": "131c04c7-2703-4f8b-8d5c-deb4b57eeb0e",
   "metadata": {},
   "outputs": [],
   "source": [
    "# Enable autoreload so that changes in imported modules are reflected automatically\n",
    "%load_ext autoreload\n",
    "%autoreload 2"
   ]
  },
  {
   "cell_type": "code",
   "execution_count": null,
   "id": "7c1cd4c0-fbe8-4b0a-97fc-a0c44e3de0a1",
   "metadata": {},
   "outputs": [],
   "source": [
    "from cosmole.convert_equatorial_to_galactic import convert_equatorial_to_galactic\n",
    "from cosmole.angular_separation import angular_separation\n",
    "from cosmole.redshift_to_distance import redshift_to_distance\n",
    "\n",
    "# Import plotting and units\n",
    "import matplotlib.pyplot as plt\n",
    "import numpy as np"
   ]
  },
  {
   "cell_type": "code",
   "execution_count": null,
   "id": "42d2d440-c1a0-4f1b-af56-33fb63a433ed",
   "metadata": {},
   "outputs": [],
   "source": [
    "# Example: Orion Nebula (RA, Dec)\n",
    "ra_deg, dec_deg = 83.82208, -5.39111\n",
    "l, b = convert_equatorial_to_galactic(ra_deg, dec_deg)  # noqa: E741\n",
    "print(f\"Galactic coordinates: l = {l:.3f}, b = {b:.3f}\")"
   ]
  },
  {
   "cell_type": "code",
   "execution_count": null,
   "id": "96782bd4-1b3d-4e44-be20-3e7e6c777920",
   "metadata": {},
   "outputs": [],
   "source": [
    "# Two nearby points\n",
    "ra1, dec1 = 10.0, 20.0\n",
    "ra2, dec2 = 10.1, 20.1\n",
    "sep_arcsec = angular_separation(ra1, dec1, ra2, dec2)\n",
    "print(f\"Angular separation: {sep_arcsec:.3f} arcsec\")"
   ]
  },
  {
   "cell_type": "code",
   "execution_count": null,
   "id": "a4fa06f9-7e41-4a93-94f8-da54f2516700",
   "metadata": {},
   "outputs": [],
   "source": [
    "# Redshift range\n",
    "z_values = np.linspace(0, 2, 100)\n",
    "distances = [redshift_to_distance(z) for z in z_values]\n",
    "\n",
    "plt.figure(figsize=(8, 5))\n",
    "plt.plot(z_values, distances, label=\"Comoving distance\")\n",
    "plt.xlabel(\"Redshift z\")\n",
    "plt.ylabel(\"Distance [Mpc]\")\n",
    "plt.title(\"Redshift vs Comoving Distance (Planck18)\")\n",
    "plt.grid(True)\n",
    "plt.legend()\n",
    "plt.show()"
   ]
  },
  {
   "cell_type": "code",
   "execution_count": null,
   "id": "2b8b2823-3781-4611-b866-624c10af5cba",
   "metadata": {},
   "outputs": [],
   "source": []
  }
 ],
 "metadata": {
  "kernelspec": {
   "display_name": "Python (cosmole-env)",
   "language": "python",
   "name": "cosmole-env"
  },
  "language_info": {
   "codemirror_mode": {
    "name": "ipython",
    "version": 3
   },
   "file_extension": ".py",
   "mimetype": "text/x-python",
   "name": "python",
   "nbconvert_exporter": "python",
   "pygments_lexer": "ipython3",
   "version": "3.12.8"
  }
 },
 "nbformat": 4,
 "nbformat_minor": 5
}
